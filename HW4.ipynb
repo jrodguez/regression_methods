{
 "cells": [
  {
   "cell_type": "markdown",
   "metadata": {},
   "source": [
    "### Instructions \n",
    "\n",
    "This homework is longer than the other ones - take time to get through it all! \n",
    "\n",
    "Work through each section and provide a well-commented response in one or more Python cells. I should be able to execute the notebook and obtain the same results that you show in the cell (_do not clear the cell outputs before uploading your final notebook to Git!_) \n",
    "\n",
    "Part of your grade (_see rubric_) is based on preparing a logical notebook that is easy to follow."
   ]
  },
  {
   "cell_type": "markdown",
   "metadata": {},
   "source": [
    "### Part 1: Short answer questions "
   ]
  },
  {
   "cell_type": "markdown",
   "metadata": {},
   "source": [
    "Explain in your own words the following concepts: \n",
    "\n",
    "* Residual squared error \n",
    "* Sum of squared residuals \n",
    "* $R^2$ statistic \n",
    "\n",
    "_note: I expect you to not simply read these definitions in ISL and modestly change the words. Please take a few minutes to read multiple definitions and come up with your own definition_ "
   ]
  },
  {
   "cell_type": "markdown",
   "metadata": {},
   "source": [
    "#### Residual Squared Error\n",
    "\n",
    "The residual error is the difference between the error of all participants in a sample, from the error of the sample mean, or some other quantity of interest. The residual squared error is simply the square of this difference."
   ]
  },
  {
   "cell_type": "markdown",
   "metadata": {},
   "source": [
    "### Sum of squared residuals\n",
    "\n",
    "The sum of squared residuals is the sum of the squared difference between an observable value and some estimated value of a qunatity of interest."
   ]
  },
  {
   "cell_type": "markdown",
   "metadata": {},
   "source": [
    "### R squared statistic\n",
    "\n",
    "The R squared statistic is a measure of the accuracy of data that is fitted to a regression line"
   ]
  },
  {
   "cell_type": "markdown",
   "metadata": {},
   "source": [
    "### Part 2: Logistic Regression\n",
    "\n",
    "Implement both the linear and logistic regression models using sklearn, calculate the coefficients $\\beta_0$ and $\\beta_1$ and exactly (to the best of your ability) reproduce Figure 4.2 in the book.  "
   ]
  },
  {
   "cell_type": "markdown",
   "metadata": {},
   "source": [
    "### Part 3: Simple Linear Regression\n",
    "\n",
    "1. Make sure you understand all the components of the SLR model Chad showed in class and code the same thing yourself \n",
    "\n",
    "2. Generate a separate set of training data (25 points) and validation data (15 poins).  Each data set should have the same amount of irreducible error (random noise term) applied to it\n",
    "\n",
    "3. Make a plot of the error in the testing data as a function of the random strength. There is no \"one answer\" for this part, open ended graded based on creativity and quality of results \n",
    "\n",
    "4. For the exact example I showed in class, calculate the RSE, SSR, $R^2$, 95% confidence intervals for both $\\beta_i$, and evaluate the P-value at 0.05 significance level for $\\beta_1$\n",
    "\n",
    "5. Explain in plain language the meaning of the P-value test "
   ]
  },
  {
   "cell_type": "markdown",
   "metadata": {},
   "source": [
    "### Part 4: Multiple Linear Regression\n",
    "1. The code below (next cell) can be used with the Harvard dataset (HCEPD_100K.csv) used in DSMCER HW2 - it is based on the MLSR of the harvard data. Some information: \n",
    "    * Your colleague gives you this code makes a 3x1 composite plot  \n",
    "    * They were trying to look at individual effects ($X_i$) values vs. the PCE to try and understand how important the individual $\\beta_i$ are  \n",
    "    * This approach is clearly wrong, both in concept as well as in code execution. Offer some explanations why. \n",
    "    * In CH3 of ISL, the F-test is explained for the multiple linear regression case. Calculate the F-statistics and explain in plain language the conclusion\n",
    "    * Calculate the p-values for each of the $\\beta$ values"
   ]
  },
  {
   "cell_type": "code",
   "execution_count": null,
   "metadata": {
    "collapsed": true
   },
   "outputs": [],
   "source": [
    "\n",
    "print(regr2.coef_)\n",
    "print(regr2.intercept_)\n",
    "\n",
    "# generate matrix X to make predictions of PCE over the X parameter space \n",
    "pts=100\n",
    "X=np.zeros((pts,3))\n",
    "X[:,0]=np.linspace(harvard.mass.min(),harvard.mass.max(),pts)\n",
    "X[:,1]=np.linspace(harvard.voc.min(),harvard.voc.max(),pts)\n",
    "X[:,2]=np.linspace(harvard.e_lumo_alpha.min(),harvard.e_lumo_alpha.max(),pts)\n",
    "\n",
    "# plot the predicted data \n",
    "plt.subplot(311)\n",
    "plt.scatter(harvard.mass,harvard.pce)\n",
    "plt.plot(X[:,0],regr2.predict(X),color='red',lw='3')\n",
    "plt.ylabel('PCE')\n",
    "plt.xlabel('$mass$')\n",
    "\n",
    "plt.subplot(312)\n",
    "plt.scatter(harvard.voc,harvard.pce)\n",
    "plt.plot(X[:,1],regr2.predict(X),color='red',lw='3')\n",
    "plt.ylabel('PCE')\n",
    "plt.xlabel('$VOC$')\n",
    "\n",
    "plt.subplot(313)\n",
    "plt.scatter(harvard.e_lumo_alpha,harvard.pce)\n",
    "plt.plot(X[:,2],regr2.predict(X),color='red',lw='3')\n",
    "plt.ylabel('PCE')\n",
    "plt.xlabel('$E_{LUMO}$')\n",
    "\n"
   ]
  },
  {
   "cell_type": "markdown",
   "metadata": {},
   "source": [
    "### Part 5: Resampling methods \n",
    "\n",
    "I would like you to write a clearly labeled function that performs bootstrapping using a subset of the HCEPD_100K.csv data. Your function should be versatile in terms of how much of the data is selected for the bootstrap and and how many iterations are run.  \n",
    "\n",
    "1. Prepare a plot of MSE (using the same 3-parameter PCE fit (using mass/VOC/lumo features). The x-axis should be the number of bootstrap samples and the y-axis should be the MSE. You should show a line for boostrap samples sizes of 100, 1000, and 5000.  \n",
    "    \n",
    "2. For the same sampling you should show a plot the estimate of the three relevant beta coefficients \n",
    "    "
   ]
  },
  {
   "cell_type": "code",
   "execution_count": null,
   "metadata": {
    "collapsed": true
   },
   "outputs": [],
   "source": []
  }
 ],
 "metadata": {
  "anaconda-cloud": {},
  "kernelspec": {
   "display_name": "Python 3",
   "language": "python",
   "name": "python3"
  },
  "language_info": {
   "codemirror_mode": {
    "name": "ipython",
    "version": 3
   },
   "file_extension": ".py",
   "mimetype": "text/x-python",
   "name": "python",
   "nbconvert_exporter": "python",
   "pygments_lexer": "ipython3",
   "version": "3.7.1"
  }
 },
 "nbformat": 4,
 "nbformat_minor": 1
}
