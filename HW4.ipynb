{
 "cells": [
  {
   "cell_type": "markdown",
   "metadata": {},
   "source": [
    "### Instructions \n",
    "\n",
    "This homework is longer than the other ones - take time to get through it all! \n",
    "\n",
    "Work through each section and provide a well-commented response in one or more Python cells. I should be able to execute the notebook and obtain the same results that you show in the cell (_do not clear the cell outputs before uploading your final notebook to Git!_) \n",
    "\n",
    "Part of your grade (_see rubric_) is based on preparing a logical notebook that is easy to follow."
   ]
  },
  {
   "cell_type": "markdown",
   "metadata": {},
   "source": [
    "### Part 1: Short answer questions "
   ]
  },
  {
   "cell_type": "markdown",
   "metadata": {},
   "source": [
    "Explain in your own words the following concepts: \n",
    "\n",
    "* Residual squared error \n",
    "* Sum of squared residuals \n",
    "* $R^2$ statistic \n",
    "\n",
    "_note: I expect you to not simply read these definitions in ISL and modestly change the words. Please take a few minutes to read multiple definitions and come up with your own definition_ "
   ]
  },
  {
   "cell_type": "markdown",
   "metadata": {},
   "source": [
    "#### Residual Squared Error\n",
    "\n",
    "The residual error is the difference between the error of all participants in a sample, from the error of the sample mean, or some other quantity of interest. The residual squared error is simply the square of this difference."
   ]
  },
  {
   "cell_type": "markdown",
   "metadata": {},
   "source": [
    "### Sum of squared residuals\n",
    "\n",
    "The sum of squared residuals is the sum of the squared difference between an observable value and some estimated value of a qunatity of interest."
   ]
  },
  {
   "cell_type": "markdown",
   "metadata": {},
   "source": [
    "### R squared statistic\n",
    "\n",
    "The R squared statistic is a measure of the accuracy of data that is fitted to a regression line"
   ]
  },
  {
   "cell_type": "markdown",
   "metadata": {},
   "source": [
    "### Part 2: Logistic Regression\n",
    "\n",
    "Implement both the linear and logistic regression models using sklearn, calculate the coefficients $\\beta_0$ and $\\beta_1$ and exactly (to the best of your ability) reproduce Figure 4.2 in the book.  "
   ]
  },
  {
   "cell_type": "code",
   "execution_count": 52,
   "metadata": {},
   "outputs": [],
   "source": [
    "import numpy as np\n",
    "import matplotlib.pyplot as plt\n",
    "import pandas as pd\n",
    "import sklearn\n",
    "from sklearn import linear_model\n",
    "from sklearn.metrics import mean_squared_error, r2_score\n",
    "import scipy\n",
    "import statsmodels.api as sm\n",
    "import statsmodels.formula.api as smf\n",
    "%matplotlib inline"
   ]
  },
  {
   "cell_type": "markdown",
   "metadata": {},
   "source": [
    "#### Reading the Default.xlsx file into a dataframe"
   ]
  },
  {
   "cell_type": "code",
   "execution_count": 53,
   "metadata": {},
   "outputs": [
    {
     "data": {
      "text/html": [
       "<div>\n",
       "<style scoped>\n",
       "    .dataframe tbody tr th:only-of-type {\n",
       "        vertical-align: middle;\n",
       "    }\n",
       "\n",
       "    .dataframe tbody tr th {\n",
       "        vertical-align: top;\n",
       "    }\n",
       "\n",
       "    .dataframe thead th {\n",
       "        text-align: right;\n",
       "    }\n",
       "</style>\n",
       "<table border=\"1\" class=\"dataframe\">\n",
       "  <thead>\n",
       "    <tr style=\"text-align: right;\">\n",
       "      <th></th>\n",
       "      <th>default</th>\n",
       "      <th>student</th>\n",
       "      <th>balance</th>\n",
       "      <th>income</th>\n",
       "    </tr>\n",
       "  </thead>\n",
       "  <tbody>\n",
       "    <tr>\n",
       "      <th>1</th>\n",
       "      <td>No</td>\n",
       "      <td>No</td>\n",
       "      <td>729.526495</td>\n",
       "      <td>44361.625074</td>\n",
       "    </tr>\n",
       "    <tr>\n",
       "      <th>2</th>\n",
       "      <td>No</td>\n",
       "      <td>Yes</td>\n",
       "      <td>817.180407</td>\n",
       "      <td>12106.134700</td>\n",
       "    </tr>\n",
       "    <tr>\n",
       "      <th>3</th>\n",
       "      <td>No</td>\n",
       "      <td>No</td>\n",
       "      <td>1073.549164</td>\n",
       "      <td>31767.138947</td>\n",
       "    </tr>\n",
       "    <tr>\n",
       "      <th>4</th>\n",
       "      <td>No</td>\n",
       "      <td>No</td>\n",
       "      <td>529.250605</td>\n",
       "      <td>35704.493935</td>\n",
       "    </tr>\n",
       "    <tr>\n",
       "      <th>5</th>\n",
       "      <td>No</td>\n",
       "      <td>No</td>\n",
       "      <td>785.655883</td>\n",
       "      <td>38463.495879</td>\n",
       "    </tr>\n",
       "  </tbody>\n",
       "</table>\n",
       "</div>"
      ],
      "text/plain": [
       "  default student      balance        income\n",
       "1      No      No   729.526495  44361.625074\n",
       "2      No     Yes   817.180407  12106.134700\n",
       "3      No      No  1073.549164  31767.138947\n",
       "4      No      No   529.250605  35704.493935\n",
       "5      No      No   785.655883  38463.495879"
      ]
     },
     "execution_count": 53,
     "metadata": {},
     "output_type": "execute_result"
    }
   ],
   "source": [
    "data = pd.read_excel('Default.xlsx')\n",
    "\n",
    "data.head()"
   ]
  },
  {
   "cell_type": "markdown",
   "metadata": {},
   "source": [
    "#### Resetting the index so that it starts at zero"
   ]
  },
  {
   "cell_type": "code",
   "execution_count": 54,
   "metadata": {},
   "outputs": [
    {
     "data": {
      "text/html": [
       "<div>\n",
       "<style scoped>\n",
       "    .dataframe tbody tr th:only-of-type {\n",
       "        vertical-align: middle;\n",
       "    }\n",
       "\n",
       "    .dataframe tbody tr th {\n",
       "        vertical-align: top;\n",
       "    }\n",
       "\n",
       "    .dataframe thead th {\n",
       "        text-align: right;\n",
       "    }\n",
       "</style>\n",
       "<table border=\"1\" class=\"dataframe\">\n",
       "  <thead>\n",
       "    <tr style=\"text-align: right;\">\n",
       "      <th></th>\n",
       "      <th>index</th>\n",
       "      <th>default</th>\n",
       "      <th>student</th>\n",
       "      <th>balance</th>\n",
       "      <th>income</th>\n",
       "    </tr>\n",
       "  </thead>\n",
       "  <tbody>\n",
       "    <tr>\n",
       "      <th>0</th>\n",
       "      <td>1</td>\n",
       "      <td>No</td>\n",
       "      <td>No</td>\n",
       "      <td>729.526495</td>\n",
       "      <td>44361.625074</td>\n",
       "    </tr>\n",
       "    <tr>\n",
       "      <th>1</th>\n",
       "      <td>2</td>\n",
       "      <td>No</td>\n",
       "      <td>Yes</td>\n",
       "      <td>817.180407</td>\n",
       "      <td>12106.134700</td>\n",
       "    </tr>\n",
       "    <tr>\n",
       "      <th>2</th>\n",
       "      <td>3</td>\n",
       "      <td>No</td>\n",
       "      <td>No</td>\n",
       "      <td>1073.549164</td>\n",
       "      <td>31767.138947</td>\n",
       "    </tr>\n",
       "    <tr>\n",
       "      <th>3</th>\n",
       "      <td>4</td>\n",
       "      <td>No</td>\n",
       "      <td>No</td>\n",
       "      <td>529.250605</td>\n",
       "      <td>35704.493935</td>\n",
       "    </tr>\n",
       "    <tr>\n",
       "      <th>4</th>\n",
       "      <td>5</td>\n",
       "      <td>No</td>\n",
       "      <td>No</td>\n",
       "      <td>785.655883</td>\n",
       "      <td>38463.495879</td>\n",
       "    </tr>\n",
       "  </tbody>\n",
       "</table>\n",
       "</div>"
      ],
      "text/plain": [
       "   index default student      balance        income\n",
       "0      1      No      No   729.526495  44361.625074\n",
       "1      2      No     Yes   817.180407  12106.134700\n",
       "2      3      No      No  1073.549164  31767.138947\n",
       "3      4      No      No   529.250605  35704.493935\n",
       "4      5      No      No   785.655883  38463.495879"
      ]
     },
     "execution_count": 54,
     "metadata": {},
     "output_type": "execute_result"
    }
   ],
   "source": [
    "data = data.reset_index()\n",
    "\n",
    "data.head()"
   ]
  },
  {
   "cell_type": "markdown",
   "metadata": {},
   "source": [
    "#### Setting up the Probability of Default\n",
    "\n",
    " Pr(default = Yes|balance)"
   ]
  },
  {
   "cell_type": "code",
   "execution_count": 55,
   "metadata": {},
   "outputs": [],
   "source": [
    "data['Probability of Default'] = None\n",
    "for i in range(len(data)): \n",
    "    if data.loc[i, ('default')] == 'Yes':\n",
    "        data.loc[i, ('Probability of Default')] = 1 #return value of 1 if the default is Yes\n",
    "    else:\n",
    "        data.loc[i, ('Probability of Default')] = 0 #return value of 0 if the Default is No"
   ]
  },
  {
   "cell_type": "code",
   "execution_count": 56,
   "metadata": {},
   "outputs": [
    {
     "data": {
      "text/html": [
       "<div>\n",
       "<style scoped>\n",
       "    .dataframe tbody tr th:only-of-type {\n",
       "        vertical-align: middle;\n",
       "    }\n",
       "\n",
       "    .dataframe tbody tr th {\n",
       "        vertical-align: top;\n",
       "    }\n",
       "\n",
       "    .dataframe thead th {\n",
       "        text-align: right;\n",
       "    }\n",
       "</style>\n",
       "<table border=\"1\" class=\"dataframe\">\n",
       "  <thead>\n",
       "    <tr style=\"text-align: right;\">\n",
       "      <th></th>\n",
       "      <th>index</th>\n",
       "      <th>default</th>\n",
       "      <th>student</th>\n",
       "      <th>balance</th>\n",
       "      <th>income</th>\n",
       "      <th>Probability of Default</th>\n",
       "    </tr>\n",
       "  </thead>\n",
       "  <tbody>\n",
       "    <tr>\n",
       "      <th>0</th>\n",
       "      <td>1</td>\n",
       "      <td>No</td>\n",
       "      <td>No</td>\n",
       "      <td>729.526495</td>\n",
       "      <td>44361.625074</td>\n",
       "      <td>0</td>\n",
       "    </tr>\n",
       "    <tr>\n",
       "      <th>1</th>\n",
       "      <td>2</td>\n",
       "      <td>No</td>\n",
       "      <td>Yes</td>\n",
       "      <td>817.180407</td>\n",
       "      <td>12106.134700</td>\n",
       "      <td>0</td>\n",
       "    </tr>\n",
       "    <tr>\n",
       "      <th>2</th>\n",
       "      <td>3</td>\n",
       "      <td>No</td>\n",
       "      <td>No</td>\n",
       "      <td>1073.549164</td>\n",
       "      <td>31767.138947</td>\n",
       "      <td>0</td>\n",
       "    </tr>\n",
       "    <tr>\n",
       "      <th>3</th>\n",
       "      <td>4</td>\n",
       "      <td>No</td>\n",
       "      <td>No</td>\n",
       "      <td>529.250605</td>\n",
       "      <td>35704.493935</td>\n",
       "      <td>0</td>\n",
       "    </tr>\n",
       "    <tr>\n",
       "      <th>4</th>\n",
       "      <td>5</td>\n",
       "      <td>No</td>\n",
       "      <td>No</td>\n",
       "      <td>785.655883</td>\n",
       "      <td>38463.495879</td>\n",
       "      <td>0</td>\n",
       "    </tr>\n",
       "  </tbody>\n",
       "</table>\n",
       "</div>"
      ],
      "text/plain": [
       "   index default student      balance        income  Probability of Default\n",
       "0      1      No      No   729.526495  44361.625074                       0\n",
       "1      2      No     Yes   817.180407  12106.134700                       0\n",
       "2      3      No      No  1073.549164  31767.138947                       0\n",
       "3      4      No      No   529.250605  35704.493935                       0\n",
       "4      5      No      No   785.655883  38463.495879                       0"
      ]
     },
     "execution_count": 56,
     "metadata": {},
     "output_type": "execute_result"
    }
   ],
   "source": [
    "data.head()"
   ]
  },
  {
   "cell_type": "markdown",
   "metadata": {},
   "source": [
    "#### Implementing the Linear Regression Model"
   ]
  },
  {
   "cell_type": "code",
   "execution_count": 57,
   "metadata": {},
   "outputs": [
    {
     "data": {
      "text/plain": [
       "array([0.00012987])"
      ]
     },
     "execution_count": 57,
     "metadata": {},
     "output_type": "execute_result"
    }
   ],
   "source": [
    "lin_regr= sklearn.linear_model.LinearRegression()\n",
    "\n",
    "# Data must be reshaped because we need to feed in a 1D array\n",
    "x = data['balance'].values.reshape(-1,1) # x-axis is the balance column on figure 4.2\n",
    "y = data['Probability of Default'].values.reshape(-1,1) # y-axis is the probability of default on figure 4.2\n",
    "\n",
    "linear_fit = lin_regr.fit(x, y.ravel())\n",
    "linear_prediction = lin_regr.predict(x)\n",
    "\n",
    "# For the linear regression coefficient\n",
    "lin_regr_coef = lin_regr.coef_\n",
    "\n",
    "lin_regr_coef"
   ]
  },
  {
   "cell_type": "code",
   "execution_count": 58,
   "metadata": {},
   "outputs": [
    {
     "data": {
      "text/plain": [
       "[<matplotlib.lines.Line2D at 0x1c28f53128>]"
      ]
     },
     "execution_count": 58,
     "metadata": {},
     "output_type": "execute_result"
    },
    {
     "data": {
      "image/png": "[encoded data removed]",
      "text/plain": [
       "<Figure size 432x288 with 1 Axes>"
      ]
     },
     "metadata": {
      "needs_background": "light"
     },
     "output_type": "display_data"
    }
   ],
   "source": [
    "# Plotting the linear regression\n",
    "\n",
    "fig = plt.figure\n",
    "plt.xlabel('Balance')\n",
    "plt.ylabel('Probability of Default')\n",
    "plt.scatter(x, y, color = 'orange')\n",
    "plt.plot(x, linear_prediction) "
   ]
  },
  {
   "cell_type": "markdown",
   "metadata": {},
   "source": [
    "#### Implementing the Logistic Regression"
   ]
  },
  {
   "cell_type": "code",
   "execution_count": 59,
   "metadata": {},
   "outputs": [
    {
     "name": "stderr",
     "output_type": "stream",
     "text": [
      "/Users/studentuser/miniconda3/lib/python3.7/site-packages/sklearn/linear_model/logistic.py:433: FutureWarning: Default solver will be changed to 'lbfgs' in 0.22. Specify a solver to silence this warning.\n",
      "  FutureWarning)\n"
     ]
    },
    {
     "data": {
      "text/plain": [
       "array([[0.00478248]])"
      ]
     },
     "execution_count": 59,
     "metadata": {},
     "output_type": "execute_result"
    }
   ],
   "source": [
    "log_regr = sklearn.linear_model.LogisticRegression()\n",
    "\n",
    "# reshaping the values again\n",
    "data = data.sort_values('balance')\n",
    "x = data['balance'].values.reshape(-1,1)\n",
    "y = data['Probability of Default'].values.reshape(-1,1)\n",
    "\n",
    "logistic_fit = log_regr.fit(x, y.ravel())\n",
    "logistic_prediction = log_regr.predict_proba(x)[:,1]\n",
    "\n",
    "# For the logistic regression coefficient\n",
    "log_regr_coef = log_regr.coef_\n",
    "\n",
    "log_regr_coef"
   ]
  },
  {
   "cell_type": "code",
   "execution_count": 60,
   "metadata": {},
   "outputs": [
    {
     "data": {
      "text/plain": [
       "Text(0, 0.5, 'Probability of Default')"
      ]
     },
     "execution_count": 60,
     "metadata": {},
     "output_type": "execute_result"
    },
    {
     "data": {
      "image/png": "[encoded data removed]",
      "text/plain": [
       "<Figure size 432x288 with 1 Axes>"
      ]
     },
     "metadata": {
      "needs_background": "light"
     },
     "output_type": "display_data"
    }
   ],
   "source": [
    "# Plotting the logistic regression\n",
    "fig = plt.figure()\n",
    "plt.scatter(x, y, color = 'orange')\n",
    "plt.plot(x.reshape(-1,1), logistic_prediction)\n",
    "plt.xlabel('Balance')\n",
    "plt.ylabel('Probability of Default')"
   ]
  },
  {
   "cell_type": "markdown",
   "metadata": {},
   "source": [
    "### Part 3: Simple Linear Regression\n",
    "\n",
    "1. Make sure you understand all the components of the SLR model Chad showed in class and code the same thing yourself \n",
    "\n",
    "2. Generate a separate set of training data (25 points) and validation data (15 poins).  Each data set should have the same amount of irreducible error (random noise term) applied to it\n",
    "\n",
    "3. Make a plot of the error in the testing data as a function of the random strength. There is no \"one answer\" for this part, open ended graded based on creativity and quality of results \n",
    "\n",
    "4. For the exact example I showed in class, calculate the RSE, SSR, $R^2$, 95% confidence intervals for both $\\beta_i$, and evaluate the P-value at 0.05 significance level for $\\beta_1$\n",
    "\n",
    "5. Explain in plain language the meaning of the P-value test "
   ]
  },
  {
   "cell_type": "markdown",
   "metadata": {},
   "source": [
    "#### Starting with the code given in L7_Regression and modifying slightly"
   ]
  },
  {
   "cell_type": "code",
   "execution_count": 61,
   "metadata": {},
   "outputs": [
    {
     "data": {
      "text/plain": [
       "<matplotlib.collections.PathCollection at 0x1c29737c18>"
      ]
     },
     "execution_count": 61,
     "metadata": {},
     "output_type": "execute_result"
    },
    {
     "data": {
      "image/png": "[encoded data removed]",
      "text/plain": [
       "<Figure size 432x288 with 1 Axes>"
      ]
     },
     "metadata": {
      "needs_background": "light"
     },
     "output_type": "display_data"
    }
   ],
   "source": [
    "#model: Y = 3X + 4\n",
    "#size of training data and scale of random noise \n",
    "pts=40 # 25 points + 15 points = 40 total \n",
    "noisescale=.25 \n",
    "x=np.linspace(-50,50,num=pts)\n",
    "B0=4\n",
    "B1=3\n",
    "yactual=B0+B1*x\n",
    "np.random.seed(123) #for reproducible \n",
    "#add noise scaled to 25% of range to data\n",
    "yrand=yactual+noisescale*(yactual.max()-yactual.min())*np.random.normal(size=pts)\n",
    "\n",
    "# Plotting\n",
    "plt.plot(x,yactual,color='red',lw='3')\n",
    "plt.scatter(x,yrand)"
   ]
  },
  {
   "cell_type": "code",
   "execution_count": 62,
   "metadata": {},
   "outputs": [
    {
     "name": "stdout",
     "output_type": "stream",
     "text": [
      "B0, B1:  [-2.25352499] [2.76248635]\n"
     ]
    },
    {
     "data": {
      "text/plain": [
       "<matplotlib.legend.Legend at 0x1c2987c6a0>"
      ]
     },
     "execution_count": 62,
     "metadata": {},
     "output_type": "execute_result"
    },
    {
     "data": {
      "image/png": "[encoded data removed]",
      "text/plain": [
       "<Figure size 432x288 with 1 Axes>"
      ]
     },
     "metadata": {
      "needs_background": "light"
     },
     "output_type": "display_data"
    }
   ],
   "source": [
    "#Naming the regression variable and reshaping\n",
    "regr = sklearn.linear_model.LinearRegression() \n",
    "regr.fit(x.reshape(-1,1),yrand.reshape(-1,1))\n",
    "print('B0, B1: ',regr.intercept_, regr.coef_[0])\n",
    "\n",
    "# Plotting regression\n",
    "plt.plot(x,yactual,color='red',lw='3',label='actual')\n",
    "plt.plot(x,regr.predict(x.reshape(-1,1)),ls='--',label='fit')\n",
    "plt.legend(loc='lower right')"
   ]
  },
  {
   "cell_type": "markdown",
   "metadata": {},
   "source": [
    "#### Plot of error in the testing data as a function of the random strength"
   ]
  },
  {
   "cell_type": "code",
   "execution_count": 63,
   "metadata": {},
   "outputs": [
    {
     "data": {
      "text/plain": [
       "Text(0, 0.5, 'Mean Squared Error')"
      ]
     },
     "execution_count": 63,
     "metadata": {},
     "output_type": "execute_result"
    },
    {
     "data": {
      "image/png": "[encoded data removed]",
      "text/plain": [
       "<Figure size 432x288 with 1 Axes>"
      ]
     },
     "metadata": {
      "needs_background": "light"
     },
     "output_type": "display_data"
    }
   ],
   "source": [
    "# Creating empty numpy array of mean squared error\n",
    "MSE = np.empty([51])\n",
    "\n",
    "# Spacing of random strength (noise) of the training data \n",
    "rand_noise = np.linspace(0, 25, num = 51)\n",
    "\n",
    "# For loop for generating mean squared error based on each random noise value\n",
    "for noise in range(len(rand_noise)):\n",
    "    #model: Y = 3X + 4\n",
    "    #size of training data and scale of random noise \n",
    "    pts=40 # 25 points + 15 points = 40 total \n",
    "    noisescale = rand_noise[noise] \n",
    "    x=np.linspace(-50,50,num=pts)\n",
    "    B0=4\n",
    "    B1=3\n",
    "    yactual=B0+B1*x\n",
    "    yrand=yactual+noisescale*(yactual.max()-yactual.min())*np.random.normal(size=pts)\n",
    "    regr = sklearn.linear_model.LinearRegression()\n",
    "    regr.fit(x.reshape(-1,1),yrand)\n",
    "    yfit = regr.predict(x.reshape(-1,1))\n",
    "    MSE[noise] = mean_squared_error(yactual, yfit)\n",
    "    \n",
    "#plotting\n",
    "plt.scatter(rand_noise, MSE)\n",
    "plt.xlabel('Random Strength')\n",
    "plt.ylabel('Mean Squared Error')"
   ]
  },
  {
   "cell_type": "markdown",
   "metadata": {},
   "source": [
    "#### Calculating the RSE, SSR,  𝑅2 , 95% confidence intervals for both  𝛽𝑖 , and evaluating the P-value at 0.05 significance level for  𝛽1, once again from the example in L7_Regression."
   ]
  },
  {
   "cell_type": "code",
   "execution_count": 64,
   "metadata": {},
   "outputs": [
    {
     "name": "stdout",
     "output_type": "stream",
     "text": [
      "RSE =  247264167.5959851\n",
      "SSR = 1019496280.4286743\n",
      "R squared value = -0.436142242837781\n",
      "Standard error = 67.20957588608105\n",
      "Confidence interval = 118.37690722928392\n",
      "B0 = -793.4017239892577\n",
      "B1 = 92.05413646571019\n"
     ]
    }
   ],
   "source": [
    "# Splitting the testing and training data\n",
    "x_train, x_test, y_train, y_test = sklearn.model_selection.train_test_split(x, yrand, test_size=15/40)\n",
    "\n",
    "# Code frome xample\n",
    "pts = 25\n",
    "noisescale = 0.25\n",
    "x = np.linspace(-50, 50, num=pts)\n",
    "B0 = 4\n",
    "B1 = 3\n",
    "yactual = B0 + B1*x\n",
    "yrand = yactual + noisescale*(yactual.max() - yactual.min())*np.random.normal(size=pts)\n",
    "regr = sklearn.linear_model.LinearRegression()\n",
    "\n",
    "#Regression fit and y prediction\n",
    "regr.fit(x_train.reshape(-1, 1), y_train)\n",
    "y_prediction = regr.predict(x_test.reshape(-1, 1))\n",
    "\n",
    "#Calculating RSE\n",
    "n = len(y_prediction)\n",
    "RSE = mean_squared_error(y_test, y_prediction)*n*(1/(n+2))**(.5)\n",
    "print('RSE = ', RSE)\n",
    "                                                       \n",
    "#Calculating SSR\n",
    "SSR = ((y_test - y_prediction)**2).sum()\n",
    "print('SSR =', SSR)\n",
    "\n",
    "#Calculating the R squared value\n",
    "r_squared = r2_score(y_test, y_prediction)\n",
    "print('R squared value =', r_squared)\n",
    "\n",
    "#Need the standard error to find confidence inetrval\n",
    "std_error = (SSR/(n-2)/np.sum((x_train - x_train.mean())**2))**0.5\n",
    "print('Standard error =', std_error)\n",
    "\n",
    "# Calculating 95% confidence inetrvals, with a P value of 0.05\n",
    "t_test = scipy.stats.t.ppf(1-0.05, n-1)\n",
    "CI = t_test * std_error\n",
    "print('Confidence interval =', CI)\n",
    "\n",
    "# Regression intercepts and coefficients, Bo and B1\n",
    "B0 = regr.intercept_\n",
    "B1 = regr.coef_[0]\n",
    "print('B0 =', B0)\n",
    "print('B1 =', B1)"
   ]
  },
  {
   "cell_type": "markdown",
   "metadata": {},
   "source": [
    "### Part 4: Multiple Linear Regression\n",
    "1. The code below (next cell) can be used with the Harvard dataset (HCEPD_100K.csv) used in DSMCER HW2 - it is based on the MLSR of the harvard data. Some information: \n",
    "    * Your colleague gives you this code makes a 3x1 composite plot  \n",
    "    * They were trying to look at individual effects ($X_i$) values vs. the PCE to try and understand how important the individual $\\beta_i$ are  \n",
    "    * This approach is clearly wrong, both in concept as well as in code execution. Offer some explanations why. \n",
    "    * In CH3 of ISL, the F-test is explained for the multiple linear regression case. Calculate the F-statistics and explain in plain language the conclusion\n",
    "    * Calculate the p-values for each of the $\\beta$ values"
   ]
  },
  {
   "cell_type": "markdown",
   "metadata": {},
   "source": [
    "#### Importing the HCEPD dataset"
   ]
  },
  {
   "cell_type": "code",
   "execution_count": 72,
   "metadata": {},
   "outputs": [
    {
     "data": {
      "text/html": [
       "<div>\n",
       "<style scoped>\n",
       "    .dataframe tbody tr th:only-of-type {\n",
       "        vertical-align: middle;\n",
       "    }\n",
       "\n",
       "    .dataframe tbody tr th {\n",
       "        vertical-align: top;\n",
       "    }\n",
       "\n",
       "    .dataframe thead th {\n",
       "        text-align: right;\n",
       "    }\n",
       "</style>\n",
       "<table border=\"1\" class=\"dataframe\">\n",
       "  <thead>\n",
       "    <tr style=\"text-align: right;\">\n",
       "      <th></th>\n",
       "      <th>id</th>\n",
       "      <th>SMILES_str</th>\n",
       "      <th>stoich_str</th>\n",
       "      <th>mass</th>\n",
       "      <th>pce</th>\n",
       "      <th>voc</th>\n",
       "      <th>jsc</th>\n",
       "      <th>e_homo_alpha</th>\n",
       "      <th>e_gap_alpha</th>\n",
       "      <th>e_lumo_alpha</th>\n",
       "      <th>tmp_smiles_str</th>\n",
       "    </tr>\n",
       "  </thead>\n",
       "  <tbody>\n",
       "    <tr>\n",
       "      <th>0</th>\n",
       "      <td>655365</td>\n",
       "      <td>C1C=CC=C1c1cc2[se]c3c4occc4c4nsnc4c3c2cn1</td>\n",
       "      <td>C18H9N3OSSe</td>\n",
       "      <td>394.3151</td>\n",
       "      <td>5.161953</td>\n",
       "      <td>0.867601</td>\n",
       "      <td>91.567575</td>\n",
       "      <td>-5.467601</td>\n",
       "      <td>2.022944</td>\n",
       "      <td>-3.444656</td>\n",
       "      <td>C1=CC=C(C1)c1cc2[se]c3c4occc4c4nsnc4c3c2cn1</td>\n",
       "    </tr>\n",
       "    <tr>\n",
       "      <th>1</th>\n",
       "      <td>1245190</td>\n",
       "      <td>C1C=CC=C1c1cc2[se]c3c(ncc4ccccc34)c2c2=C[SiH2]...</td>\n",
       "      <td>C22H15NSeSi</td>\n",
       "      <td>400.4135</td>\n",
       "      <td>5.261398</td>\n",
       "      <td>0.504824</td>\n",
       "      <td>160.401549</td>\n",
       "      <td>-5.104824</td>\n",
       "      <td>1.630750</td>\n",
       "      <td>-3.474074</td>\n",
       "      <td>C1=CC=C(C1)c1cc2[se]c3c(ncc4ccccc34)c2c2=C[SiH...</td>\n",
       "    </tr>\n",
       "    <tr>\n",
       "      <th>2</th>\n",
       "      <td>21847</td>\n",
       "      <td>C1C=c2ccc3c4c[nH]cc4c4c5[SiH2]C(=Cc5oc4c3c2=C1...</td>\n",
       "      <td>C24H17NOSi</td>\n",
       "      <td>363.4903</td>\n",
       "      <td>0.000000</td>\n",
       "      <td>0.000000</td>\n",
       "      <td>197.474780</td>\n",
       "      <td>-4.539526</td>\n",
       "      <td>1.462158</td>\n",
       "      <td>-3.077368</td>\n",
       "      <td>C1=CC=C(C1)C1=Cc2oc3c(c2[SiH2]1)c1c[nH]cc1c1cc...</td>\n",
       "    </tr>\n",
       "    <tr>\n",
       "      <th>3</th>\n",
       "      <td>65553</td>\n",
       "      <td>[SiH2]1C=CC2=C1C=C([SiH2]2)C1=Cc2[se]ccc2[SiH2]1</td>\n",
       "      <td>C12H12SeSi3</td>\n",
       "      <td>319.4448</td>\n",
       "      <td>6.138294</td>\n",
       "      <td>0.630274</td>\n",
       "      <td>149.887545</td>\n",
       "      <td>-5.230274</td>\n",
       "      <td>1.682250</td>\n",
       "      <td>-3.548025</td>\n",
       "      <td>C1=CC2=C([SiH2]1)C=C([SiH2]2)C1=Cc2[se]ccc2[Si...</td>\n",
       "    </tr>\n",
       "    <tr>\n",
       "      <th>4</th>\n",
       "      <td>720918</td>\n",
       "      <td>C1C=c2c3ccsc3c3[se]c4cc(oc4c3c2=C1)C1=CC=CC1</td>\n",
       "      <td>C20H12OSSe</td>\n",
       "      <td>379.3398</td>\n",
       "      <td>1.991366</td>\n",
       "      <td>0.242119</td>\n",
       "      <td>126.581347</td>\n",
       "      <td>-4.842119</td>\n",
       "      <td>1.809439</td>\n",
       "      <td>-3.032680</td>\n",
       "      <td>C1=CC=C(C1)c1cc2[se]c3c4sccc4c4=CCC=c4c3c2o1</td>\n",
       "    </tr>\n",
       "  </tbody>\n",
       "</table>\n",
       "</div>"
      ],
      "text/plain": [
       "        id                                         SMILES_str   stoich_str  \\\n",
       "0   655365          C1C=CC=C1c1cc2[se]c3c4occc4c4nsnc4c3c2cn1  C18H9N3OSSe   \n",
       "1  1245190  C1C=CC=C1c1cc2[se]c3c(ncc4ccccc34)c2c2=C[SiH2]...  C22H15NSeSi   \n",
       "2    21847  C1C=c2ccc3c4c[nH]cc4c4c5[SiH2]C(=Cc5oc4c3c2=C1...   C24H17NOSi   \n",
       "3    65553   [SiH2]1C=CC2=C1C=C([SiH2]2)C1=Cc2[se]ccc2[SiH2]1  C12H12SeSi3   \n",
       "4   720918       C1C=c2c3ccsc3c3[se]c4cc(oc4c3c2=C1)C1=CC=CC1   C20H12OSSe   \n",
       "\n",
       "       mass       pce       voc         jsc  e_homo_alpha  e_gap_alpha  \\\n",
       "0  394.3151  5.161953  0.867601   91.567575     -5.467601     2.022944   \n",
       "1  400.4135  5.261398  0.504824  160.401549     -5.104824     1.630750   \n",
       "2  363.4903  0.000000  0.000000  197.474780     -4.539526     1.462158   \n",
       "3  319.4448  6.138294  0.630274  149.887545     -5.230274     1.682250   \n",
       "4  379.3398  1.991366  0.242119  126.581347     -4.842119     1.809439   \n",
       "\n",
       "   e_lumo_alpha                                     tmp_smiles_str  \n",
       "0     -3.444656        C1=CC=C(C1)c1cc2[se]c3c4occc4c4nsnc4c3c2cn1  \n",
       "1     -3.474074  C1=CC=C(C1)c1cc2[se]c3c(ncc4ccccc34)c2c2=C[SiH...  \n",
       "2     -3.077368  C1=CC=C(C1)C1=Cc2oc3c(c2[SiH2]1)c1c[nH]cc1c1cc...  \n",
       "3     -3.548025  C1=CC2=C([SiH2]1)C=C([SiH2]2)C1=Cc2[se]ccc2[Si...  \n",
       "4     -3.032680       C1=CC=C(C1)c1cc2[se]c3c4sccc4c4=CCC=c4c3c2o1  "
      ]
     },
     "execution_count": 72,
     "metadata": {},
     "output_type": "execute_result"
    }
   ],
   "source": [
    "harvard = pd.read_csv('HCEPD_100K.csv')\n",
    "\n",
    "harvard.head()"
   ]
  },
  {
   "cell_type": "code",
   "execution_count": 73,
   "metadata": {},
   "outputs": [
    {
     "data": {
      "text/plain": [
       "(99999, 11)"
      ]
     },
     "execution_count": 73,
     "metadata": {},
     "output_type": "execute_result"
    }
   ],
   "source": [
    "harvard.shape"
   ]
  },
  {
   "cell_type": "markdown",
   "metadata": {},
   "source": [
    "#### Implementing the collegues code"
   ]
  },
  {
   "cell_type": "code",
   "execution_count": 88,
   "metadata": {},
   "outputs": [
    {
     "name": "stdout",
     "output_type": "stream",
     "text": [
      "[[1.80746215e-03 6.90543119e-06 8.44863095e-06]]\n",
      "[3.43921971]\n"
     ]
    },
    {
     "data": {
      "image/png": "[encoded data removed]",
      "text/plain": [
       "<Figure size 432x288 with 3 Axes>"
      ]
     },
     "metadata": {
      "needs_background": "light"
     },
     "output_type": "display_data"
    }
   ],
   "source": [
    "# generate matrix X to make predictions of PCE over the X parameter space \n",
    "pts=99999\n",
    "X=np.zeros((pts,3))\n",
    "X[:,0]=np.linspace(harvard.mass.min(),harvard.mass.max(),pts)\n",
    "X[:,1]=np.linspace(harvard.voc.min(),harvard.voc.max(),pts)\n",
    "X[:,2]=np.linspace(harvard.e_lumo_alpha.min(),harvard.e_lumo_alpha.max(),pts)\n",
    "\n",
    "# Performing the regression\n",
    "regr2 = sklearn.linear_model.LinearRegression()\n",
    "regr2.fit(X, harvard['pce'].values.reshape(-1,1))\n",
    "y_prediction = regr2.predict(X)\n",
    "\n",
    "# plot the predicted data \n",
    "plt.subplot(311)\n",
    "plt.scatter(harvard.mass,harvard.pce)\n",
    "plt.plot(X[:,0],regr2.predict(X),color='red',lw='3')\n",
    "plt.ylabel('PCE')\n",
    "plt.xlabel('$mass$')\n",
    "\n",
    "plt.subplot(312)\n",
    "plt.scatter(harvard.voc,harvard.pce)\n",
    "plt.plot(X[:,1],regr2.predict(X),color='red',lw='3')\n",
    "plt.ylabel('PCE')\n",
    "plt.xlabel('$VOC$')\n",
    "\n",
    "plt.subplot(313)\n",
    "plt.scatter(harvard.e_lumo_alpha,harvard.pce)\n",
    "plt.plot(X[:,2],regr2.predict(X),color='red',lw='3')\n",
    "plt.ylabel('PCE')\n",
    "plt.xlabel('$E_{LUMO}$')\n",
    "\n",
    "#adjusting space between subplots\n",
    "plt.subplots_adjust( wspace = 0.1, hspace = 0.7)\n",
    "\n",
    "\n",
    "print(regr2.coef_)\n",
    "print(regr2.intercept_)\n"
   ]
  },
  {
   "cell_type": "markdown",
   "metadata": {},
   "source": [
    "#### Our collegue's approach to this investigation has some certain flaws. It seems the values going into his matrix, X, that are serving to make predictions for pce are only based off of the maximum and minumum values. There is an extremely large quantity of data here that is not being used to make these predicitions."
   ]
  },
  {
   "cell_type": "markdown",
   "metadata": {},
   "source": [
    "#### Below we will generate a more appropriate X matrix that uses the entire data instead of just the minimum and maximum values."
   ]
  },
  {
   "cell_type": "code",
   "execution_count": 89,
   "metadata": {},
   "outputs": [],
   "source": [
    "pts = 99999\n",
    "X_new = np.zeros((pts,3))\n",
    "X_new[:, 0] = harvard['mass'].values\n",
    "X_new[:, 1] = harvard['voc'].values\n",
    "X_new[:, 2] = harvard['e_lumo_alpha'].values\n",
    "Y_new = harvard['pce'].values"
   ]
  },
  {
   "cell_type": "markdown",
   "metadata": {},
   "source": [
    "#### We can get the F statistcis by performing an OLS regression"
   ]
  },
  {
   "cell_type": "code",
   "execution_count": 96,
   "metadata": {},
   "outputs": [
    {
     "data": {
      "text/html": [
       "<table class=\"simpletable\">\n",
       "<caption>OLS Regression Results</caption>\n",
       "<tr>\n",
       "  <th>Dep. Variable:</th>            <td>y</td>        <th>  R-squared:         </th>  <td>   0.877</td>  \n",
       "</tr>\n",
       "<tr>\n",
       "  <th>Model:</th>                   <td>OLS</td>       <th>  Adj. R-squared:    </th>  <td>   0.877</td>  \n",
       "</tr>\n",
       "<tr>\n",
       "  <th>Method:</th>             <td>Least Squares</td>  <th>  F-statistic:       </th>  <td>2.368e+05</td> \n",
       "</tr>\n",
       "<tr>\n",
       "  <th>Date:</th>             <td>Sun, 10 Mar 2019</td> <th>  Prob (F-statistic):</th>   <td>  0.00</td>   \n",
       "</tr>\n",
       "<tr>\n",
       "  <th>Time:</th>                 <td>17:08:22</td>     <th>  Log-Likelihood:    </th> <td>-1.9012e+05</td>\n",
       "</tr>\n",
       "<tr>\n",
       "  <th>No. Observations:</th>      <td> 99999</td>      <th>  AIC:               </th>  <td>3.803e+05</td> \n",
       "</tr>\n",
       "<tr>\n",
       "  <th>Df Residuals:</th>          <td> 99996</td>      <th>  BIC:               </th>  <td>3.803e+05</td> \n",
       "</tr>\n",
       "<tr>\n",
       "  <th>Df Model:</th>              <td>     3</td>      <th>                     </th>      <td> </td>     \n",
       "</tr>\n",
       "<tr>\n",
       "  <th>Covariance Type:</th>      <td>nonrobust</td>    <th>                     </th>      <td> </td>     \n",
       "</tr>\n",
       "</table>\n",
       "<table class=\"simpletable\">\n",
       "<tr>\n",
       "   <td></td>     <th>coef</th>     <th>std err</th>      <th>t</th>      <th>P>|t|</th>  <th>[0.025</th>    <th>0.975]</th>  \n",
       "</tr>\n",
       "<tr>\n",
       "  <th>x1</th> <td>   -0.0052</td> <td>    0.000</td> <td>  -51.077</td> <td> 0.000</td> <td>   -0.005</td> <td>   -0.005</td>\n",
       "</tr>\n",
       "<tr>\n",
       "  <th>x2</th> <td>    2.0761</td> <td>    0.021</td> <td>  100.687</td> <td> 0.000</td> <td>    2.036</td> <td>    2.117</td>\n",
       "</tr>\n",
       "<tr>\n",
       "  <th>x3</th> <td>   -1.5404</td> <td>    0.014</td> <td> -111.641</td> <td> 0.000</td> <td>   -1.567</td> <td>   -1.513</td>\n",
       "</tr>\n",
       "</table>\n",
       "<table class=\"simpletable\">\n",
       "<tr>\n",
       "  <th>Omnibus:</th>       <td>5855.838</td> <th>  Durbin-Watson:     </th> <td>   1.885</td>\n",
       "</tr>\n",
       "<tr>\n",
       "  <th>Prob(Omnibus):</th>  <td> 0.000</td>  <th>  Jarque-Bera (JB):  </th> <td>6942.952</td>\n",
       "</tr>\n",
       "<tr>\n",
       "  <th>Skew:</th>           <td> 0.626</td>  <th>  Prob(JB):          </th> <td>    0.00</td>\n",
       "</tr>\n",
       "<tr>\n",
       "  <th>Kurtosis:</th>       <td> 3.316</td>  <th>  Cond. No.          </th> <td>1.76e+03</td>\n",
       "</tr>\n",
       "</table><br/><br/>Warnings:<br/>[1] Standard Errors assume that the covariance matrix of the errors is correctly specified.<br/>[2] The condition number is large, 1.76e+03. This might indicate that there are<br/>strong multicollinearity or other numerical problems."
      ],
      "text/plain": [
       "<class 'statsmodels.iolib.summary.Summary'>\n",
       "\"\"\"\n",
       "                            OLS Regression Results                            \n",
       "==============================================================================\n",
       "Dep. Variable:                      y   R-squared:                       0.877\n",
       "Model:                            OLS   Adj. R-squared:                  0.877\n",
       "Method:                 Least Squares   F-statistic:                 2.368e+05\n",
       "Date:                Sun, 10 Mar 2019   Prob (F-statistic):               0.00\n",
       "Time:                        17:08:22   Log-Likelihood:            -1.9012e+05\n",
       "No. Observations:               99999   AIC:                         3.803e+05\n",
       "Df Residuals:                   99996   BIC:                         3.803e+05\n",
       "Df Model:                           3                                         \n",
       "Covariance Type:            nonrobust                                         \n",
       "==============================================================================\n",
       "                 coef    std err          t      P>|t|      [0.025      0.975]\n",
       "------------------------------------------------------------------------------\n",
       "x1            -0.0052      0.000    -51.077      0.000      -0.005      -0.005\n",
       "x2             2.0761      0.021    100.687      0.000       2.036       2.117\n",
       "x3            -1.5404      0.014   -111.641      0.000      -1.567      -1.513\n",
       "==============================================================================\n",
       "Omnibus:                     5855.838   Durbin-Watson:                   1.885\n",
       "Prob(Omnibus):                  0.000   Jarque-Bera (JB):             6942.952\n",
       "Skew:                           0.626   Prob(JB):                         0.00\n",
       "Kurtosis:                       3.316   Cond. No.                     1.76e+03\n",
       "==============================================================================\n",
       "\n",
       "Warnings:\n",
       "[1] Standard Errors assume that the covariance matrix of the errors is correctly specified.\n",
       "[2] The condition number is large, 1.76e+03. This might indicate that there are\n",
       "strong multicollinearity or other numerical problems.\n",
       "\"\"\""
      ]
     },
     "execution_count": 96,
     "metadata": {},
     "output_type": "execute_result"
    }
   ],
   "source": [
    "new_approach = sm.OLS(Y_new, X_new).fit()\n",
    "new_approach.summary()"
   ]
  },
  {
   "cell_type": "markdown",
   "metadata": {},
   "source": [
    "#### The F-statistic value here was 2.368 E+5. An F-statistic is a ratio of two variances, and in this case, we are taking the ratio of the variance of the sample means and the variance of all the samples themselves. The F_statistic we obtained is pretty high, and in this case we can reject the null hypothesis which should state that the sample means are equal. In turn, this tells us that the sample means vary more than the rest of the samples themselves"
   ]
  },
  {
   "cell_type": "markdown",
   "metadata": {},
   "source": [
    "### Part 5: Resampling methods \n",
    "\n",
    "I would like you to write a clearly labeled function that performs bootstrapping using a subset of the HCEPD_100K.csv data. Your function should be versatile in terms of how much of the data is selected for the bootstrap and and how many iterations are run.  \n",
    "\n",
    "1. Prepare a plot of MSE (using the same 3-parameter PCE fit (using mass/VOC/lumo features). The x-axis should be the number of bootstrap samples and the y-axis should be the MSE. You should show a line for boostrap samples sizes of 100, 1000, and 5000.  \n",
    "    \n",
    "2. For the same sampling you should show a plot the estimate of the three relevant beta coefficients \n",
    "    "
   ]
  },
  {
   "cell_type": "markdown",
   "metadata": {
    "collapsed": true
   },
   "source": [
    "#### Creating the bootstrapping function"
   ]
  },
  {
   "cell_type": "code",
   "execution_count": 103,
   "metadata": {},
   "outputs": [],
   "source": [
    "def bootstrapping (df, quantity):\n",
    "    \"\"\" This is a bootstrapping function that takes in a dataframe and the quantity of data for which to \n",
    "    perform the bootstrapping\"\"\"\n",
    "    sampling = df.sample(quantity, replace=True, random_state=5000)\n",
    "    reg = smf.ols('pce ~ mass + voc + e_lumo_alpha', sampling)\n",
    "    model = reg.fit()\n",
    "    return model"
   ]
  },
  {
   "cell_type": "markdown",
   "metadata": {},
   "source": [
    "#### Writing a for loop to implement the same sizes on the bootstrapping function"
   ]
  },
  {
   "cell_type": "code",
   "execution_count": 104,
   "metadata": {},
   "outputs": [],
   "source": [
    "# From the problem statement\n",
    "sample_sizes = [100, 1000, 5000]\n",
    "\n",
    "#Empty lists for which to append results\n",
    "bootstrap_results = []\n",
    "MSE = []\n",
    "mass = []\n",
    "voc = []\n",
    "e_lumo =[]\n",
    "\n",
    "# For loop\n",
    "for sizes in sample_sizes:\n",
    "    bootstrap_results.append(bootstrapping(harvard, sizes))\n",
    "    MSE.append(bootstrap_results[-1].mse_model)\n",
    "    mass.append(bootstrap_results[-1].params[1])\n",
    "    voc.append(bootstrap_results[-1].params[2])\n",
    "    e_lumo.append(bootstrap_results[-1].params[3])"
   ]
  },
  {
   "cell_type": "markdown",
   "metadata": {},
   "source": [
    "#### Plotting MSE vs sample size"
   ]
  },
  {
   "cell_type": "code",
   "execution_count": 105,
   "metadata": {},
   "outputs": [
    {
     "data": {
      "text/plain": [
       "Text(0, 0.5, 'Mean Squared Error')"
      ]
     },
     "execution_count": 105,
     "metadata": {},
     "output_type": "execute_result"
    },
    {
     "data": {
      "image/png": "[encoded data removed]",
      "text/plain": [
       "<Figure size 432x288 with 1 Axes>"
      ]
     },
     "metadata": {
      "needs_background": "light"
     },
     "output_type": "display_data"
    }
   ],
   "source": [
    "figure1 = plt.figure()\n",
    "plt.scatter(np.arange(3), MSE)\n",
    "plt.xticks(np.arange(3), sample_sizes)\n",
    "plt.xlabel('Sample Size')\n",
    "plt.ylabel('Mean Squared Error')"
   ]
  },
  {
   "cell_type": "markdown",
   "metadata": {},
   "source": [
    "#### Plotting the beta coefficients"
   ]
  },
  {
   "cell_type": "code",
   "execution_count": 117,
   "metadata": {},
   "outputs": [
    {
     "data": {
      "image/png": "[encoded data removed]",
      "text/plain": [
       "<Figure size 432x288 with 3 Axes>"
      ]
     },
     "metadata": {
      "needs_background": "light"
     },
     "output_type": "display_data"
    }
   ],
   "source": [
    "figure2 = plt.figure()\n",
    "\n",
    "#mass coefficient\n",
    "plt.subplot(1, 3, 1)\n",
    "plt.scatter(np.arange(3), mass)\n",
    "plt.xticks(np.arange(3), sample_sizes)\n",
    "plt.xlabel('Sample Size')\n",
    "plt.ylabel('Mass Coefficient')\n",
    "\n",
    "#voc coefficient\n",
    "plt.subplot(1, 3, 2)\n",
    "plt.scatter(np.arange(3), voc)\n",
    "plt.xticks(np.arange(3), sample_sizes)\n",
    "plt.xlabel('Sample Size')\n",
    "plt.ylabel('voc Coefficient')\n",
    "\n",
    "#e_lumo coefficient\n",
    "plt.subplot(1, 3, 3)\n",
    "plt.scatter(np.arange(3), e_lumo)\n",
    "plt.xticks(np.arange(3), sample_sizes)\n",
    "plt.xlabel('Sample Size')\n",
    "plt.ylabel('e_lumo Coefficient')\n",
    "\n",
    "#adjusting space between subplots\n",
    "plt.subplots_adjust( wspace = 1, hspace = 1.5)"
   ]
  },
  {
   "cell_type": "code",
   "execution_count": null,
   "metadata": {},
   "outputs": [],
   "source": []
  }
 ],
 "metadata": {
  "anaconda-cloud": {},
  "kernelspec": {
   "display_name": "Python 3",
   "language": "python",
   "name": "python3"
  },
  "language_info": {
   "codemirror_mode": {
    "name": "ipython",
    "version": 3
   },
   "file_extension": ".py",
   "mimetype": "text/x-python",
   "name": "python",
   "nbconvert_exporter": "python",
   "pygments_lexer": "ipython3",
   "version": "3.7.1"
  }
 },
 "nbformat": 4,
 "nbformat_minor": 1
}
